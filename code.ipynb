{
 "cells": [
  {
   "cell_type": "code",
   "execution_count": 3,
   "id": "d21e213d-1dfa-47cd-b9d3-755e9993f4f5",
   "metadata": {},
   "outputs": [],
   "source": [
    "import numpy as np\n",
    "import pandas as pd\n",
    "import matplotlib.pyplot as plt"
   ]
  },
  {
   "cell_type": "code",
   "execution_count": 4,
   "id": "52fc56ec-738d-4066-a98f-faf01b85f432",
   "metadata": {},
   "outputs": [
    {
     "ename": "NameError",
     "evalue": "name 'intercept_model' is not defined",
     "output_type": "error",
     "traceback": [
      "\u001b[0;31m---------------------------------------------------------------------------\u001b[0m",
      "\u001b[0;31mNameError\u001b[0m                                 Traceback (most recent call last)",
      "Cell \u001b[0;32mIn[4], line 1\u001b[0m\n\u001b[0;32m----> 1\u001b[0m forwardAIC_model \u001b[38;5;241m=\u001b[39m plt\u001b[38;5;241m.\u001b[39mstep(\u001b[43mintercept_model\u001b[49m,\n\u001b[1;32m      2\u001b[0m                         scope \u001b[38;5;241m=\u001b[39m \u001b[38;5;28mlist\u001b[39m(lower\u001b[38;5;241m=\u001b[39mintercept_model, upper\u001b[38;5;241m=\u001b[39mtrain\u001b[38;5;241m.\u001b[39mglm),\n\u001b[1;32m      3\u001b[0m                         direction\u001b[38;5;241m=\u001b[39m\u001b[38;5;124m\"\u001b[39m\u001b[38;5;124mforward\u001b[39m\u001b[38;5;124m\"\u001b[39m,\n\u001b[1;32m      4\u001b[0m                         k\u001b[38;5;241m=\u001b[39m\u001b[38;5;241m2\u001b[39m,\n\u001b[1;32m      5\u001b[0m                         trace\u001b[38;5;241m=\u001b[39mFALSE)\n",
      "\u001b[0;31mNameError\u001b[0m: name 'intercept_model' is not defined"
     ]
    }
   ],
   "source": [
    "forwardAIC_model = plt.step(intercept_model,\n",
    "                        scope = list(lower=intercept_model, upper=train.glm),\n",
    "                        direction=\"forward\",\n",
    "                        k=2,\n",
    "                        trace=FALSE)"
   ]
  },
  {
   "cell_type": "code",
   "execution_count": 5,
   "id": "aa5d312e-8cc5-40ea-a1df-ad2cdc3049e4",
   "metadata": {},
   "outputs": [
    {
     "ename": "NameError",
     "evalue": "name 'summary' is not defined",
     "output_type": "error",
     "traceback": [
      "\u001b[0;31m---------------------------------------------------------------------------\u001b[0m",
      "\u001b[0;31mNameError\u001b[0m                                 Traceback (most recent call last)",
      "Cell \u001b[0;32mIn[5], line 1\u001b[0m\n\u001b[0;32m----> 1\u001b[0m \u001b[43msummary\u001b[49m(forwardAIC_model)\n",
      "\u001b[0;31mNameError\u001b[0m: name 'summary' is not defined"
     ]
    }
   ],
   "source": [
    "summary(forwardAIC_model)"
   ]
  },
  {
   "cell_type": "code",
   "execution_count": null,
   "id": "fc9b3ab5-aee9-45bc-9671-2079a2270e6e",
   "metadata": {},
   "outputs": [],
   "source": []
  },
  {
   "cell_type": "code",
   "execution_count": null,
   "id": "8be7d53b-ebd4-420d-bbb8-b0d99bffe895",
   "metadata": {},
   "outputs": [],
   "source": []
  },
  {
   "cell_type": "code",
   "execution_count": null,
   "id": "e97d9cb5-ffc8-45da-aefa-18156ebcb8a3",
   "metadata": {},
   "outputs": [],
   "source": []
  }
 ],
 "metadata": {
  "kernelspec": {
   "display_name": "Python 3 (ipykernel)",
   "language": "python",
   "name": "python3"
  },
  "language_info": {
   "codemirror_mode": {
    "name": "ipython",
    "version": 3
   },
   "file_extension": ".py",
   "mimetype": "text/x-python",
   "name": "python",
   "nbconvert_exporter": "python",
   "pygments_lexer": "ipython3",
   "version": "3.10.8"
  }
 },
 "nbformat": 4,
 "nbformat_minor": 5
}
